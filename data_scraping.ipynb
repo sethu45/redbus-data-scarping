{
 "cells": [
  {
   "cell_type": "code",
   "execution_count": 1,
   "metadata": {
    "id": "RSvrX6Re1viY"
   },
   "outputs": [],
   "source": [
    "import time\n",
    "from selenium import webdriver\n",
    "from selenium.common import StaleElementReferenceException, TimeoutException, NoSuchElementException, ElementClickInterceptedException\n",
    "from selenium.webdriver.common.by import By\n",
    "from selenium.webdriver import ActionChains, Keys\n",
    "from selenium.webdriver.ie.webdriver import WebDriver\n",
    "from selenium.webdriver.support.wait import WebDriverWait\n",
    "from selenium.webdriver.support import expected_conditions as EC\n",
    "import pandas as pd\n",
    "import numpy as np"
   ]
  },
  {
   "cell_type": "code",
   "execution_count": 2,
   "metadata": {},
   "outputs": [],
   "source": [
    "bus_data = {}\n",
    "\n",
    "bus_route_list = []\n",
    "bus_route_link_list = []\n",
    "bus_name_list=[]\n",
    "bus_type_list = []\n",
    "departing_time_list = []\n",
    "duration_list = []\n",
    "reaching_time_list = []\n",
    "star_rating_list = []\n",
    "price_list = []\n",
    "seats_available_list = []"
   ]
  },
  {
   "cell_type": "code",
   "execution_count": 3,
   "metadata": {
    "id": "iHJOhWAWPmYm"
   },
   "outputs": [],
   "source": [
    "def get_buses_details(driver):\n",
    "    \n",
    "    try:\n",
    "        next_date = driver.find_element(By.XPATH, \"//div[@class='onward d-block fl']//span[@class='next']\")\n",
    "        next_date.click() # next day to get all available buses\n",
    "        time.sleep(2)\n",
    "    except:\n",
    "        pass\n",
    "    \n",
    "    try:\n",
    "        view_gov_buses = WebDriverWait(driver, 5).until(\n",
    "        EC.element_to_be_clickable((By.XPATH, \"//div[@class='w-14 fl']//div[@class='button']\")))\n",
    "\n",
    "        view_gov_buses.click()\n",
    "        time.sleep(2)\n",
    "    except:\n",
    "        pass\n",
    "    screen_height = driver.execute_script(\"return window.screen.height;\")\n",
    "    i=1\n",
    "    while True:\n",
    "        driver.execute_script(f\"window.scrollTo(0, {screen_height}*{i});\")\n",
    "        i += 1\n",
    "        time.sleep(1)\n",
    "        scroll_height = driver.execute_script(\"return document.body.scrollHeight;\")\n",
    "\n",
    "        if screen_height * i > scroll_height:\n",
    "            break\n",
    "\n",
    "    bus_name = driver.find_elements(By.XPATH, \"//div[@class = 'travels lh-24 f-bold d-color']\")\n",
    "    bus_type = driver.find_elements(By.XPATH, \"//div[@class = 'bus-type f-12 m-top-16 l-color evBus']\")\n",
    "    departing_time = driver.find_elements(By.XPATH, \"//div[@class = 'dp-time f-19 d-color f-bold']\")\n",
    "    duration = driver.find_elements(By.XPATH, \"//div[@class = 'dur l-color lh-24']\")\n",
    "    reaching_time = driver.find_elements(By.XPATH, \"//div[@class = 'bp-time f-19 d-color disp-Inline']\")\n",
    "    star_rating = driver.find_elements(By.XPATH, \"//div[contains(@class, 'rating-sec')]//span[string-length(text()) > 0]\")\n",
    "    price = driver.find_elements(By.XPATH, \"//div[@class='seat-fare ']//div[@class='fare d-block']//span\")\n",
    "    seats_available = driver.find_elements(By.XPATH, \"//div[contains(@class, 'seat-left')]\")\n",
    "\n",
    "\n",
    "    for i in range(len(bus_name)):\n",
    "        bus_name_list.append(bus_name[i].text if i < len(bus_name) else None)\n",
    "        bus_type_list.append(bus_type[i].text if i < len(bus_type) else None)\n",
    "        departing_time_list.append(departing_time[i].text if i < len(departing_time) else None)\n",
    "        duration_list.append(duration[i].text if i < len(duration) else None)\n",
    "        reaching_time_list.append(reaching_time[i].text if i < len(reaching_time) else None)\n",
    "        star_rating_list.append(star_rating[i].text if i < len(star_rating) else None)\n",
    "        price_list.append(price[i].text if i < len(price) else None)\n",
    "        seats_available_list.append(seats_available[i].text if i < len(seats_available) else None)\n",
    "\n",
    "    return bus_name"
   ]
  },
  {
   "cell_type": "code",
   "execution_count": 4,
   "metadata": {
    "id": "LYqpNx82Pcib"
   },
   "outputs": [],
   "source": [
    "def collect_all_routes(driver):\n",
    "    all_route_texts = []\n",
    "    all_route_links = []\n",
    "\n",
    "    # Fetch all pagination tabs\n",
    "    pagination_tabs = driver.find_elements(By.CLASS_NAME, \"DC_117_pageTabs\")\n",
    "    total_page_number = len(pagination_tabs)\n",
    "\n",
    "    for page_number in range(1, total_page_number + 1):\n",
    "        # Fetch bus routes for the current page\n",
    "        bus_route_elements = driver.find_elements(By.XPATH,\n",
    "                                                  \"//div[@class='route_link']//div[@class='route_details']//a[@class='route']\")\n",
    "\n",
    "        if not bus_route_elements:\n",
    "            print(\"No bus routes found on this page.\")\n",
    "            break  # Exit if no routes are found\n",
    "\n",
    "        for route in bus_route_elements:\n",
    "            all_route_texts.append(route.text)\n",
    "            all_route_links.append(route.get_attribute(\"href\"))\n",
    "\n",
    "        # Handle pagination\n",
    "        try:\n",
    "            pagination = WebDriverWait(driver, 10).until(\n",
    "                EC.presence_of_element_located((By.XPATH, \"//div[@class='DC_117_paginationTable']\"))\n",
    "            )\n",
    "\n",
    "            next_page = pagination.find_elements(By.XPATH,\n",
    "                                                 f\"//div[@class='DC_117_pageTabs ' and text()='{page_number + 1}']\")\n",
    "            if next_page:\n",
    "                # Scroll to the next page element\n",
    "                driver.execute_script(\"arguments[0].scrollIntoView(true);\", next_page[0])\n",
    "                time.sleep(1)  # Short wait for scrolling to complete\n",
    "\n",
    "                # Wait for the element to be clickable\n",
    "                WebDriverWait(driver, 10).until(EC.element_to_be_clickable(next_page[0]))\n",
    "                next_page[0].click()  # Click the next page\n",
    "                time.sleep(2) \n",
    "            else:\n",
    "                print('No more pages')\n",
    "                break\n",
    "\n",
    "        except ElementClickInterceptedException:\n",
    "            print(\"Element click intercepted. Trying again...\")\n",
    "            time.sleep(1)  \n",
    "            continue \n",
    "\n",
    "        except NoSuchElementException:\n",
    "            print('No more pages')\n",
    "            break\n",
    "\n",
    "    return all_route_texts, all_route_links"
   ]
  },
  {
   "cell_type": "code",
   "execution_count": 5,
   "metadata": {
    "id": "7MpiaO3mPkp0"
   },
   "outputs": [],
   "source": [
    "def collect_data_from_routes(driver, route_texts, route_links):\n",
    "\n",
    "    for link in range(len(route_links)):\n",
    "        driver.get(route_links[link])\n",
    "        time.sleep(2)\n",
    "\n",
    "        # Collect bus details\n",
    "        bus_details = get_buses_details(driver)\n",
    "        for _ in range(len(bus_details)):\n",
    "            bus_route_list.append(route_texts[link])\n",
    "            bus_route_link_list.append(route_links[link])\n",
    "\n",
    "        driver.back()\n",
    "        time.sleep(2)"
   ]
  },
  {
   "cell_type": "code",
   "execution_count": 6,
   "metadata": {
    "id": "WFEOxT1u8aXf"
   },
   "outputs": [],
   "source": [
    "def regional_buses(driver, url):\n",
    "    driver.get(url)       # https://www.redbus.in/online-booking/rsrtc\n",
    "    time.sleep(2)\n",
    "    all_route_texts, all_route_links = collect_all_routes(driver)\n",
    "    collect_data_from_routes(driver, all_route_texts, all_route_links)"
   ]
  },
  {
   "cell_type": "markdown",
   "metadata": {},
   "source": [
    "## Rajasthan State Road Transport Corporation "
   ]
  },
  {
   "cell_type": "code",
   "execution_count": 8,
   "metadata": {},
   "outputs": [
    {
     "name": "stdout",
     "output_type": "stream",
     "text": [
      "No more pages\n"
     ]
    }
   ],
   "source": [
    "rsrtc_driver = webdriver.Chrome()\n",
    "rsrtc_driver.maximize_window()\n",
    "action = ActionChains(rsrtc_driver)\n",
    "\n",
    "url = \"https://www.redbus.in/online-booking/rsrtc\"\n",
    "regional_buses(rsrtc_driver, url)\n",
    "rsrtc_driver.close()"
   ]
  },
  {
   "cell_type": "markdown",
   "metadata": {},
   "source": [
    "## Patiala and East Punjab States Union Buses"
   ]
  },
  {
   "cell_type": "code",
   "execution_count": 9,
   "metadata": {},
   "outputs": [
    {
     "name": "stdout",
     "output_type": "stream",
     "text": [
      "No more pages\n"
     ]
    }
   ],
   "source": [
    "pepsu_driver = webdriver.Chrome()\n",
    "pepsu_driver.maximize_window()\n",
    "action = ActionChains(pepsu_driver)\n",
    "\n",
    "url = \"https://www.redbus.in/online-booking/pepsu\"\n",
    "regional_buses(pepsu_driver, url)\n",
    "pepsu_driver.close()"
   ]
  },
  {
   "cell_type": "markdown",
   "metadata": {},
   "source": [
    "## Uttar Pradesh State Road Transport Corporation"
   ]
  },
  {
   "cell_type": "code",
   "execution_count": 10,
   "metadata": {},
   "outputs": [
    {
     "name": "stdout",
     "output_type": "stream",
     "text": [
      "No more pages\n"
     ]
    }
   ],
   "source": [
    "upsrtc_driver = webdriver.Chrome()\n",
    "upsrtc_driver.maximize_window()\n",
    "action = ActionChains(upsrtc_driver)\n",
    "\n",
    "url = \"https://www.redbus.in/online-booking/uttar-pradesh-state-road-transport-corporation-upsrtc\"\n",
    "regional_buses(upsrtc_driver, url)\n",
    "upsrtc_driver.close()"
   ]
  },
  {
   "cell_type": "markdown",
   "metadata": {},
   "source": [
    "## Kerala State Road Transport Corporation"
   ]
  },
  {
   "cell_type": "code",
   "execution_count": 11,
   "metadata": {},
   "outputs": [
    {
     "name": "stdout",
     "output_type": "stream",
     "text": [
      "No more pages\n"
     ]
    }
   ],
   "source": [
    "ksrtc_driver = webdriver.Chrome()\n",
    "ksrtc_driver.maximize_window()\n",
    "action = ActionChains(ksrtc_driver)\n",
    "\n",
    "url = \"https://www.redbus.in/online-booking/ksrtc-kerala\"\n",
    "regional_buses(ksrtc_driver, url)\n",
    "ksrtc_driver.close()"
   ]
  },
  {
   "cell_type": "markdown",
   "metadata": {},
   "source": [
    "## Meghalaya Transport Corporation(MTC)"
   ]
  },
  {
   "cell_type": "code",
   "execution_count": 12,
   "metadata": {},
   "outputs": [
    {
     "name": "stdout",
     "output_type": "stream",
     "text": [
      "No more pages\n"
     ]
    }
   ],
   "source": [
    "mtc_driver = webdriver.Chrome()\n",
    "mtc_driver.maximize_window()\n",
    "action = ActionChains(mtc_driver)\n",
    "\n",
    "url = \"https://www.redbus.in/online-booking/meghalaya-transport-corporation-mtc\"\n",
    "regional_buses(mtc_driver, url)\n",
    "mtc_driver.close()"
   ]
  },
  {
   "cell_type": "markdown",
   "metadata": {},
   "source": [
    "## Telangana State Road Transport Corporation"
   ]
  },
  {
   "cell_type": "code",
   "execution_count": 13,
   "metadata": {},
   "outputs": [
    {
     "name": "stdout",
     "output_type": "stream",
     "text": [
      "No more pages\n"
     ]
    }
   ],
   "source": [
    "tsrtc_driver = webdriver.Chrome()\n",
    "tsrtc_driver.maximize_window()\n",
    "action = ActionChains(tsrtc_driver)\n",
    "\n",
    "url = \"https://www.redbus.in/online-booking/tsrtc\"\n",
    "regional_buses(tsrtc_driver, url)\n",
    "tsrtc_driver.close()"
   ]
  },
  {
   "cell_type": "markdown",
   "metadata": {},
   "source": [
    "## Kadamba Transport Corporation Limited (KTCL)"
   ]
  },
  {
   "cell_type": "code",
   "execution_count": 14,
   "metadata": {},
   "outputs": [
    {
     "name": "stdout",
     "output_type": "stream",
     "text": [
      "No more pages\n"
     ]
    }
   ],
   "source": [
    "ktcl_driver = webdriver.Chrome()\n",
    "ktcl_driver.maximize_window()\n",
    "action = ActionChains(ktcl_driver)\n",
    "\n",
    "url = \"https://www.redbus.in/online-booking/ktcl\"\n",
    "regional_buses(ktcl_driver, url)\n",
    "ktcl_driver.close()"
   ]
  },
  {
   "cell_type": "markdown",
   "metadata": {},
   "source": [
    "## Chandigarh Transport Undertaking (CTU)"
   ]
  },
  {
   "cell_type": "code",
   "execution_count": 15,
   "metadata": {},
   "outputs": [
    {
     "name": "stdout",
     "output_type": "stream",
     "text": [
      "No more pages\n"
     ]
    }
   ],
   "source": [
    "ctu_driver = webdriver.Chrome()\n",
    "ctu_driver.maximize_window()\n",
    "action = ActionChains(ctu_driver)\n",
    "\n",
    "url = \"https://www.redbus.in/online-booking/chandigarh-transport-undertaking-ctu\"\n",
    "regional_buses(ctu_driver, url)\n",
    "ctu_driver.close()"
   ]
  },
  {
   "cell_type": "markdown",
   "metadata": {},
   "source": [
    "## Himachal Road Transport Corporation "
   ]
  },
  {
   "cell_type": "code",
   "execution_count": 16,
   "metadata": {},
   "outputs": [
    {
     "name": "stdout",
     "output_type": "stream",
     "text": [
      "No more pages\n"
     ]
    }
   ],
   "source": [
    "hrtc_driver = webdriver.Chrome()\n",
    "hrtc_driver.maximize_window()\n",
    "action = ActionChains(hrtc_driver)\n",
    "\n",
    "url = \"https://www.redbus.in/online-booking/hrtc\"\n",
    "regional_buses(hrtc_driver, url)\n",
    "hrtc_driver.close()"
   ]
  },
  {
   "cell_type": "markdown",
   "metadata": {},
   "source": [
    "## KAAC Transport"
   ]
  },
  {
   "cell_type": "code",
   "execution_count": 17,
   "metadata": {},
   "outputs": [
    {
     "name": "stdout",
     "output_type": "stream",
     "text": [
      "No more pages\n"
     ]
    }
   ],
   "source": [
    "kaac_driver = webdriver.Chrome()\n",
    "kaac_driver.maximize_window()\n",
    "action = ActionChains(kaac_driver)\n",
    "\n",
    "url = \"https://www.redbus.in/online-booking/kaac-transport\"\n",
    "regional_buses(kaac_driver, url)\n",
    "kaac_driver.close()"
   ]
  },
  {
   "cell_type": "code",
   "execution_count": 18,
   "metadata": {},
   "outputs": [],
   "source": [
    "# Get the length of the longest list\n",
    "max_length = max(len(bus_route_list), len(bus_route_link_list), len(bus_name_list), \n",
    "                 len(bus_type_list), len(departing_time_list), len(duration_list), \n",
    "                 len(reaching_time_list), len(star_rating_list), len(price_list), \n",
    "                 len(seats_available_list))\n",
    "\n",
    "# Fill shorter lists with NaN\n",
    "bus_route_list += [np.nan] * (max_length - len(bus_route_list))\n",
    "bus_route_link_list += [np.nan] * (max_length - len(bus_route_link_list))\n",
    "bus_name_list += [np.nan] * (max_length - len(bus_name_list))\n",
    "bus_type_list += [np.nan] * (max_length - len(bus_type_list))\n",
    "departing_time_list += [np.nan] * (max_length - len(departing_time_list))\n",
    "duration_list += [np.nan] * (max_length - len(duration_list))\n",
    "reaching_time_list += [np.nan] * (max_length - len(reaching_time_list))\n",
    "star_rating_list += [np.nan] * (max_length - len(star_rating_list))\n",
    "price_list += [np.nan] * (max_length - len(price_list))\n",
    "seats_available_list += [np.nan] * (max_length - len(seats_available_list))\n",
    "\n",
    "# Create DataFrame\n",
    "df = pd.DataFrame({\n",
    "    'bus_route': bus_route_list,\n",
    "    'bus_route_link': bus_route_link_list,\n",
    "    'bus_name': bus_name_list,\n",
    "    'bus_type': bus_type_list,\n",
    "    'departing_time': departing_time_list,\n",
    "    'duration': duration_list,\n",
    "    'reaching_time': reaching_time_list,\n",
    "    'star_rating': star_rating_list,\n",
    "    'price': price_list,\n",
    "    'seats_available': seats_available_list\n",
    "})\n"
   ]
  },
  {
   "cell_type": "code",
   "execution_count": 19,
   "metadata": {},
   "outputs": [
    {
     "data": {
      "text/html": [
       "<div>\n",
       "<style scoped>\n",
       "    .dataframe tbody tr th:only-of-type {\n",
       "        vertical-align: middle;\n",
       "    }\n",
       "\n",
       "    .dataframe tbody tr th {\n",
       "        vertical-align: top;\n",
       "    }\n",
       "\n",
       "    .dataframe thead th {\n",
       "        text-align: right;\n",
       "    }\n",
       "</style>\n",
       "<table border=\"1\" class=\"dataframe\">\n",
       "  <thead>\n",
       "    <tr style=\"text-align: right;\">\n",
       "      <th></th>\n",
       "      <th>bus_route</th>\n",
       "      <th>bus_route_link</th>\n",
       "      <th>bus_name</th>\n",
       "      <th>bus_type</th>\n",
       "      <th>departing_time</th>\n",
       "      <th>duration</th>\n",
       "      <th>reaching_time</th>\n",
       "      <th>star_rating</th>\n",
       "      <th>price</th>\n",
       "      <th>seats_available</th>\n",
       "    </tr>\n",
       "  </thead>\n",
       "  <tbody>\n",
       "    <tr>\n",
       "      <th>0</th>\n",
       "      <td>Udaipur to Jodhpur</td>\n",
       "      <td>https://www.redbus.in/bus-tickets/udaipur-to-j...</td>\n",
       "      <td>RSRTC - 194381</td>\n",
       "      <td>Deluxe AC Seater 2+2</td>\n",
       "      <td>06:00</td>\n",
       "      <td>05h 15m</td>\n",
       "      <td>11:15</td>\n",
       "      <td>3.3</td>\n",
       "      <td>527</td>\n",
       "      <td>33 Seats available</td>\n",
       "    </tr>\n",
       "    <tr>\n",
       "      <th>1</th>\n",
       "      <td>Udaipur to Jodhpur</td>\n",
       "      <td>https://www.redbus.in/bus-tickets/udaipur-to-j...</td>\n",
       "      <td>RSRTC - 146395</td>\n",
       "      <td>Express Non AC Seater 2+3</td>\n",
       "      <td>06:45</td>\n",
       "      <td>07h 15m</td>\n",
       "      <td>14:00</td>\n",
       "      <td>2.3</td>\n",
       "      <td>299</td>\n",
       "      <td>42 Seats available</td>\n",
       "    </tr>\n",
       "    <tr>\n",
       "      <th>2</th>\n",
       "      <td>Udaipur to Jodhpur</td>\n",
       "      <td>https://www.redbus.in/bus-tickets/udaipur-to-j...</td>\n",
       "      <td>RSRTC - 194422</td>\n",
       "      <td>Deluxe AC Seater 2+2</td>\n",
       "      <td>07:15</td>\n",
       "      <td>05h 00m</td>\n",
       "      <td>12:15</td>\n",
       "      <td>3.0</td>\n",
       "      <td>531</td>\n",
       "      <td>22 Seats available</td>\n",
       "    </tr>\n",
       "    <tr>\n",
       "      <th>3</th>\n",
       "      <td>Udaipur to Jodhpur</td>\n",
       "      <td>https://www.redbus.in/bus-tickets/udaipur-to-j...</td>\n",
       "      <td>RSRTC - 194255</td>\n",
       "      <td>Express Non AC Seater 2+3</td>\n",
       "      <td>07:45</td>\n",
       "      <td>06h 35m</td>\n",
       "      <td>14:20</td>\n",
       "      <td>5.0</td>\n",
       "      <td>299</td>\n",
       "      <td>46 Seats available</td>\n",
       "    </tr>\n",
       "    <tr>\n",
       "      <th>4</th>\n",
       "      <td>Udaipur to Jodhpur</td>\n",
       "      <td>https://www.redbus.in/bus-tickets/udaipur-to-j...</td>\n",
       "      <td>RSRTC - 174533</td>\n",
       "      <td>Express Non AC Seater 2+3</td>\n",
       "      <td>08:45</td>\n",
       "      <td>07h 15m</td>\n",
       "      <td>16:00</td>\n",
       "      <td>4.6</td>\n",
       "      <td>299</td>\n",
       "      <td>42 Seats available</td>\n",
       "    </tr>\n",
       "    <tr>\n",
       "      <th>...</th>\n",
       "      <td>...</td>\n",
       "      <td>...</td>\n",
       "      <td>...</td>\n",
       "      <td>...</td>\n",
       "      <td>...</td>\n",
       "      <td>...</td>\n",
       "      <td>...</td>\n",
       "      <td>...</td>\n",
       "      <td>...</td>\n",
       "      <td>...</td>\n",
       "    </tr>\n",
       "    <tr>\n",
       "      <th>12053</th>\n",
       "      <td>Guwahati to Manja (assam)</td>\n",
       "      <td>https://www.redbus.in/bus-tickets/guwahati-to-...</td>\n",
       "      <td>Kareng Travels</td>\n",
       "      <td>A/C Seater (2+1)</td>\n",
       "      <td>09:30</td>\n",
       "      <td>06h 15m</td>\n",
       "      <td>15:45</td>\n",
       "      <td>3.4</td>\n",
       "      <td>400</td>\n",
       "      <td>5 Seats available</td>\n",
       "    </tr>\n",
       "    <tr>\n",
       "      <th>12054</th>\n",
       "      <td>Guwahati to Manja (assam)</td>\n",
       "      <td>https://www.redbus.in/bus-tickets/guwahati-to-...</td>\n",
       "      <td>Kareng Travels</td>\n",
       "      <td>Non AC Seater (2+2)</td>\n",
       "      <td>11:45</td>\n",
       "      <td>06h 15m</td>\n",
       "      <td>18:00</td>\n",
       "      <td>3.9</td>\n",
       "      <td>360</td>\n",
       "      <td>45 Seats available</td>\n",
       "    </tr>\n",
       "    <tr>\n",
       "      <th>12055</th>\n",
       "      <td>Hamren to Diphu</td>\n",
       "      <td>https://www.redbus.in/bus-tickets/hamren-to-diphu</td>\n",
       "      <td>KAAC TRANSPORT - 175491</td>\n",
       "      <td>Non AC Seater (2+2)</td>\n",
       "      <td>05:30</td>\n",
       "      <td>04h 50m</td>\n",
       "      <td>10:20</td>\n",
       "      <td>3.5</td>\n",
       "      <td>246</td>\n",
       "      <td>41 Seats available</td>\n",
       "    </tr>\n",
       "    <tr>\n",
       "      <th>12056</th>\n",
       "      <td>Hamren to Diphu</td>\n",
       "      <td>https://www.redbus.in/bus-tickets/hamren-to-diphu</td>\n",
       "      <td>KAAC TRANSPORT - 157443</td>\n",
       "      <td>Non AC Seater 2+2</td>\n",
       "      <td>11:45</td>\n",
       "      <td>06h 15m</td>\n",
       "      <td>18:00</td>\n",
       "      <td>2.5</td>\n",
       "      <td>300</td>\n",
       "      <td>41 Seats available</td>\n",
       "    </tr>\n",
       "    <tr>\n",
       "      <th>12057</th>\n",
       "      <td>Guwahati to Hamren</td>\n",
       "      <td>https://www.redbus.in/bus-tickets/guwahati-to-...</td>\n",
       "      <td>KAAC TRANSPORT - 157357</td>\n",
       "      <td>Non AC Seater (2+2)</td>\n",
       "      <td>12:00</td>\n",
       "      <td>06h 00m</td>\n",
       "      <td>18:00</td>\n",
       "      <td>5.0</td>\n",
       "      <td>254</td>\n",
       "      <td>42 Seats available</td>\n",
       "    </tr>\n",
       "  </tbody>\n",
       "</table>\n",
       "<p>12058 rows × 10 columns</p>\n",
       "</div>"
      ],
      "text/plain": [
       "                       bus_route  \\\n",
       "0             Udaipur to Jodhpur   \n",
       "1             Udaipur to Jodhpur   \n",
       "2             Udaipur to Jodhpur   \n",
       "3             Udaipur to Jodhpur   \n",
       "4             Udaipur to Jodhpur   \n",
       "...                          ...   \n",
       "12053  Guwahati to Manja (assam)   \n",
       "12054  Guwahati to Manja (assam)   \n",
       "12055            Hamren to Diphu   \n",
       "12056            Hamren to Diphu   \n",
       "12057         Guwahati to Hamren   \n",
       "\n",
       "                                          bus_route_link  \\\n",
       "0      https://www.redbus.in/bus-tickets/udaipur-to-j...   \n",
       "1      https://www.redbus.in/bus-tickets/udaipur-to-j...   \n",
       "2      https://www.redbus.in/bus-tickets/udaipur-to-j...   \n",
       "3      https://www.redbus.in/bus-tickets/udaipur-to-j...   \n",
       "4      https://www.redbus.in/bus-tickets/udaipur-to-j...   \n",
       "...                                                  ...   \n",
       "12053  https://www.redbus.in/bus-tickets/guwahati-to-...   \n",
       "12054  https://www.redbus.in/bus-tickets/guwahati-to-...   \n",
       "12055  https://www.redbus.in/bus-tickets/hamren-to-diphu   \n",
       "12056  https://www.redbus.in/bus-tickets/hamren-to-diphu   \n",
       "12057  https://www.redbus.in/bus-tickets/guwahati-to-...   \n",
       "\n",
       "                      bus_name                   bus_type departing_time  \\\n",
       "0               RSRTC - 194381       Deluxe AC Seater 2+2          06:00   \n",
       "1               RSRTC - 146395  Express Non AC Seater 2+3          06:45   \n",
       "2               RSRTC - 194422       Deluxe AC Seater 2+2          07:15   \n",
       "3               RSRTC - 194255  Express Non AC Seater 2+3          07:45   \n",
       "4               RSRTC - 174533  Express Non AC Seater 2+3          08:45   \n",
       "...                        ...                        ...            ...   \n",
       "12053           Kareng Travels           A/C Seater (2+1)          09:30   \n",
       "12054           Kareng Travels        Non AC Seater (2+2)          11:45   \n",
       "12055  KAAC TRANSPORT - 175491        Non AC Seater (2+2)          05:30   \n",
       "12056  KAAC TRANSPORT - 157443          Non AC Seater 2+2          11:45   \n",
       "12057  KAAC TRANSPORT - 157357        Non AC Seater (2+2)          12:00   \n",
       "\n",
       "      duration reaching_time star_rating price     seats_available  \n",
       "0      05h 15m         11:15         3.3   527  33 Seats available  \n",
       "1      07h 15m         14:00         2.3   299  42 Seats available  \n",
       "2      05h 00m         12:15         3.0   531  22 Seats available  \n",
       "3      06h 35m         14:20         5.0   299  46 Seats available  \n",
       "4      07h 15m         16:00         4.6   299  42 Seats available  \n",
       "...        ...           ...         ...   ...                 ...  \n",
       "12053  06h 15m         15:45         3.4   400   5 Seats available  \n",
       "12054  06h 15m         18:00         3.9   360  45 Seats available  \n",
       "12055  04h 50m         10:20         3.5   246  41 Seats available  \n",
       "12056  06h 15m         18:00         2.5   300  41 Seats available  \n",
       "12057  06h 00m         18:00         5.0   254  42 Seats available  \n",
       "\n",
       "[12058 rows x 10 columns]"
      ]
     },
     "execution_count": 19,
     "metadata": {},
     "output_type": "execute_result"
    }
   ],
   "source": [
    "df"
   ]
  },
  {
   "cell_type": "code",
   "execution_count": 21,
   "metadata": {},
   "outputs": [],
   "source": [
    "df.to_csv('bus_data.csv', index=False)"
   ]
  }
 ],
 "metadata": {
  "colab": {
   "provenance": []
  },
  "kernelspec": {
   "display_name": "Python 3 (ipykernel)",
   "language": "python",
   "name": "python3"
  },
  "language_info": {
   "codemirror_mode": {
    "name": "ipython",
    "version": 3
   },
   "file_extension": ".py",
   "mimetype": "text/x-python",
   "name": "python",
   "nbconvert_exporter": "python",
   "pygments_lexer": "ipython3",
   "version": "3.10.9"
  }
 },
 "nbformat": 4,
 "nbformat_minor": 1
}
